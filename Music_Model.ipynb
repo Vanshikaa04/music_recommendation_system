{
 "cells": [
  {
   "cell_type": "code",
   "execution_count": 22,
   "id": "5c28185e-d93c-45e0-a801-d9f860c43a42",
   "metadata": {},
   "outputs": [],
   "source": [
    "# Importing Libraries\n",
    "import numpy as np\n",
    "import pandas as pd"
   ]
  },
  {
   "cell_type": "code",
   "execution_count": 23,
   "id": "76f494c4-f4a7-4656-911f-f02feff2c7fe",
   "metadata": {},
   "outputs": [],
   "source": [
    "# Imported dataset\n",
    "df= pd.read_csv(\"spotify_millsongdata.csv\")"
   ]
  },
  {
   "cell_type": "code",
   "execution_count": 24,
   "id": "2a77339f-d832-45cd-b90a-049ba97d7b77",
   "metadata": {},
   "outputs": [
    {
     "data": {
      "text/html": [
       "<div>\n",
       "<style scoped>\n",
       "    .dataframe tbody tr th:only-of-type {\n",
       "        vertical-align: middle;\n",
       "    }\n",
       "\n",
       "    .dataframe tbody tr th {\n",
       "        vertical-align: top;\n",
       "    }\n",
       "\n",
       "    .dataframe thead th {\n",
       "        text-align: right;\n",
       "    }\n",
       "</style>\n",
       "<table border=\"1\" class=\"dataframe\">\n",
       "  <thead>\n",
       "    <tr style=\"text-align: right;\">\n",
       "      <th></th>\n",
       "      <th>artist</th>\n",
       "      <th>song</th>\n",
       "      <th>link</th>\n",
       "      <th>text</th>\n",
       "    </tr>\n",
       "  </thead>\n",
       "  <tbody>\n",
       "    <tr>\n",
       "      <th>0</th>\n",
       "      <td>ABBA</td>\n",
       "      <td>Ahe's My Kind Of Girl</td>\n",
       "      <td>/a/abba/ahes+my+kind+of+girl_20598417.html</td>\n",
       "      <td>Look at her face, it's a wonderful face  \\r\\nA...</td>\n",
       "    </tr>\n",
       "    <tr>\n",
       "      <th>1</th>\n",
       "      <td>ABBA</td>\n",
       "      <td>Andante, Andante</td>\n",
       "      <td>/a/abba/andante+andante_20002708.html</td>\n",
       "      <td>Take it easy with me, please  \\r\\nTouch me gen...</td>\n",
       "    </tr>\n",
       "    <tr>\n",
       "      <th>2</th>\n",
       "      <td>ABBA</td>\n",
       "      <td>As Good As New</td>\n",
       "      <td>/a/abba/as+good+as+new_20003033.html</td>\n",
       "      <td>I'll never know why I had to go  \\r\\nWhy I had...</td>\n",
       "    </tr>\n",
       "    <tr>\n",
       "      <th>3</th>\n",
       "      <td>ABBA</td>\n",
       "      <td>Bang</td>\n",
       "      <td>/a/abba/bang_20598415.html</td>\n",
       "      <td>Making somebody happy is a question of give an...</td>\n",
       "    </tr>\n",
       "    <tr>\n",
       "      <th>4</th>\n",
       "      <td>ABBA</td>\n",
       "      <td>Bang-A-Boomerang</td>\n",
       "      <td>/a/abba/bang+a+boomerang_20002668.html</td>\n",
       "      <td>Making somebody happy is a question of give an...</td>\n",
       "    </tr>\n",
       "    <tr>\n",
       "      <th>...</th>\n",
       "      <td>...</td>\n",
       "      <td>...</td>\n",
       "      <td>...</td>\n",
       "      <td>...</td>\n",
       "    </tr>\n",
       "    <tr>\n",
       "      <th>57645</th>\n",
       "      <td>Ziggy Marley</td>\n",
       "      <td>Good Old Days</td>\n",
       "      <td>/z/ziggy+marley/good+old+days_10198588.html</td>\n",
       "      <td>Irie days come on play  \\r\\nLet the angels fly...</td>\n",
       "    </tr>\n",
       "    <tr>\n",
       "      <th>57646</th>\n",
       "      <td>Ziggy Marley</td>\n",
       "      <td>Hand To Mouth</td>\n",
       "      <td>/z/ziggy+marley/hand+to+mouth_20531167.html</td>\n",
       "      <td>Power to the workers  \\r\\nMore power  \\r\\nPowe...</td>\n",
       "    </tr>\n",
       "    <tr>\n",
       "      <th>57647</th>\n",
       "      <td>Zwan</td>\n",
       "      <td>Come With Me</td>\n",
       "      <td>/z/zwan/come+with+me_20148981.html</td>\n",
       "      <td>all you need  \\r\\nis something i'll believe  \\...</td>\n",
       "    </tr>\n",
       "    <tr>\n",
       "      <th>57648</th>\n",
       "      <td>Zwan</td>\n",
       "      <td>Desire</td>\n",
       "      <td>/z/zwan/desire_20148986.html</td>\n",
       "      <td>northern star  \\r\\nam i frightened  \\r\\nwhere ...</td>\n",
       "    </tr>\n",
       "    <tr>\n",
       "      <th>57649</th>\n",
       "      <td>Zwan</td>\n",
       "      <td>Heartsong</td>\n",
       "      <td>/z/zwan/heartsong_20148991.html</td>\n",
       "      <td>come in  \\r\\nmake yourself at home  \\r\\ni'm a ...</td>\n",
       "    </tr>\n",
       "  </tbody>\n",
       "</table>\n",
       "<p>57650 rows × 4 columns</p>\n",
       "</div>"
      ],
      "text/plain": [
       "             artist                   song  \\\n",
       "0              ABBA  Ahe's My Kind Of Girl   \n",
       "1              ABBA       Andante, Andante   \n",
       "2              ABBA         As Good As New   \n",
       "3              ABBA                   Bang   \n",
       "4              ABBA       Bang-A-Boomerang   \n",
       "...             ...                    ...   \n",
       "57645  Ziggy Marley          Good Old Days   \n",
       "57646  Ziggy Marley          Hand To Mouth   \n",
       "57647          Zwan           Come With Me   \n",
       "57648          Zwan                 Desire   \n",
       "57649          Zwan              Heartsong   \n",
       "\n",
       "                                              link  \\\n",
       "0       /a/abba/ahes+my+kind+of+girl_20598417.html   \n",
       "1            /a/abba/andante+andante_20002708.html   \n",
       "2             /a/abba/as+good+as+new_20003033.html   \n",
       "3                       /a/abba/bang_20598415.html   \n",
       "4           /a/abba/bang+a+boomerang_20002668.html   \n",
       "...                                            ...   \n",
       "57645  /z/ziggy+marley/good+old+days_10198588.html   \n",
       "57646  /z/ziggy+marley/hand+to+mouth_20531167.html   \n",
       "57647           /z/zwan/come+with+me_20148981.html   \n",
       "57648                 /z/zwan/desire_20148986.html   \n",
       "57649              /z/zwan/heartsong_20148991.html   \n",
       "\n",
       "                                                    text  \n",
       "0      Look at her face, it's a wonderful face  \\r\\nA...  \n",
       "1      Take it easy with me, please  \\r\\nTouch me gen...  \n",
       "2      I'll never know why I had to go  \\r\\nWhy I had...  \n",
       "3      Making somebody happy is a question of give an...  \n",
       "4      Making somebody happy is a question of give an...  \n",
       "...                                                  ...  \n",
       "57645  Irie days come on play  \\r\\nLet the angels fly...  \n",
       "57646  Power to the workers  \\r\\nMore power  \\r\\nPowe...  \n",
       "57647  all you need  \\r\\nis something i'll believe  \\...  \n",
       "57648  northern star  \\r\\nam i frightened  \\r\\nwhere ...  \n",
       "57649  come in  \\r\\nmake yourself at home  \\r\\ni'm a ...  \n",
       "\n",
       "[57650 rows x 4 columns]"
      ]
     },
     "execution_count": 24,
     "metadata": {},
     "output_type": "execute_result"
    }
   ],
   "source": [
    "df"
   ]
  },
  {
   "cell_type": "code",
   "execution_count": 25,
   "id": "e92f7253-31a0-489a-a332-0e9a55e69902",
   "metadata": {},
   "outputs": [
    {
     "data": {
      "text/plain": [
       "(57650, 4)"
      ]
     },
     "execution_count": 25,
     "metadata": {},
     "output_type": "execute_result"
    }
   ],
   "source": [
    "df.shape"
   ]
  },
  {
   "cell_type": "code",
   "execution_count": 26,
   "id": "0c13ac12-4a36-420a-a619-3d3d20c89385",
   "metadata": {},
   "outputs": [
    {
     "data": {
      "text/plain": [
       "artist    0\n",
       "song      0\n",
       "link      0\n",
       "text      0\n",
       "dtype: int64"
      ]
     },
     "execution_count": 26,
     "metadata": {},
     "output_type": "execute_result"
    }
   ],
   "source": [
    "# Checking for Duplicacy\n",
    "df.isnull().sum()"
   ]
  },
  {
   "cell_type": "code",
   "execution_count": 27,
   "id": "4cf21a69-7884-453d-9022-21f99281993c",
   "metadata": {},
   "outputs": [],
   "source": [
    "df= df.sample(5000).drop(\"link\", axis=1).reset_index(drop=True)\n",
    "\n",
    "# axis-1 means column and returns new dataframe\n",
    "# reset_index(drop=True) : reset indexes and not to keep the old index"
   ]
  },
  {
   "cell_type": "code",
   "execution_count": 28,
   "id": "745c8328-57c8-4f88-ac55-05e8101b4b86",
   "metadata": {},
   "outputs": [
    {
     "data": {
      "text/html": [
       "<div>\n",
       "<style scoped>\n",
       "    .dataframe tbody tr th:only-of-type {\n",
       "        vertical-align: middle;\n",
       "    }\n",
       "\n",
       "    .dataframe tbody tr th {\n",
       "        vertical-align: top;\n",
       "    }\n",
       "\n",
       "    .dataframe thead th {\n",
       "        text-align: right;\n",
       "    }\n",
       "</style>\n",
       "<table border=\"1\" class=\"dataframe\">\n",
       "  <thead>\n",
       "    <tr style=\"text-align: right;\">\n",
       "      <th></th>\n",
       "      <th>artist</th>\n",
       "      <th>song</th>\n",
       "      <th>text</th>\n",
       "    </tr>\n",
       "  </thead>\n",
       "  <tbody>\n",
       "    <tr>\n",
       "      <th>0</th>\n",
       "      <td>Yngwie Malmsteen</td>\n",
       "      <td>End Of My Rope</td>\n",
       "      <td>Don't make a move  \\r\\nDon't make a sound  \\r\\...</td>\n",
       "    </tr>\n",
       "    <tr>\n",
       "      <th>1</th>\n",
       "      <td>John Mellencamp</td>\n",
       "      <td>Cheap Shot</td>\n",
       "      <td>Well the record company's goin' out of busines...</td>\n",
       "    </tr>\n",
       "    <tr>\n",
       "      <th>2</th>\n",
       "      <td>Jimmy Buffett</td>\n",
       "      <td>Door Number Three</td>\n",
       "      <td>Oh I took a wrong turn, it was the right turn ...</td>\n",
       "    </tr>\n",
       "    <tr>\n",
       "      <th>3</th>\n",
       "      <td>Helloween</td>\n",
       "      <td>Revelation</td>\n",
       "      <td>Now we chase the end of time  \\r\\nAfraid what ...</td>\n",
       "    </tr>\n",
       "    <tr>\n",
       "      <th>4</th>\n",
       "      <td>Janis Joplin</td>\n",
       "      <td>One Night Stand (Alternate Take)</td>\n",
       "      <td>When I'm on the road playin' in a town without...</td>\n",
       "    </tr>\n",
       "  </tbody>\n",
       "</table>\n",
       "</div>"
      ],
      "text/plain": [
       "             artist                              song  \\\n",
       "0  Yngwie Malmsteen                    End Of My Rope   \n",
       "1   John Mellencamp                        Cheap Shot   \n",
       "2     Jimmy Buffett                 Door Number Three   \n",
       "3         Helloween                        Revelation   \n",
       "4      Janis Joplin  One Night Stand (Alternate Take)   \n",
       "\n",
       "                                                text  \n",
       "0  Don't make a move  \\r\\nDon't make a sound  \\r\\...  \n",
       "1  Well the record company's goin' out of busines...  \n",
       "2  Oh I took a wrong turn, it was the right turn ...  \n",
       "3  Now we chase the end of time  \\r\\nAfraid what ...  \n",
       "4  When I'm on the road playin' in a town without...  "
      ]
     },
     "execution_count": 28,
     "metadata": {},
     "output_type": "execute_result"
    }
   ],
   "source": [
    "df.head()"
   ]
  },
  {
   "cell_type": "code",
   "execution_count": 29,
   "id": "a125e3fe-0562-4c36-9069-209efcd6ed1b",
   "metadata": {},
   "outputs": [
    {
     "data": {
      "text/plain": [
       "\"Don't make a move  \\r\\nDon't make a sound  \\r\\nI've got my eyes trained on you  \\r\\nThe target is found  \\r\\n  \\r\\nYou waited too long  \\r\\nSoon you'll be gone  \\r\\nI'd rather stand on my own  \\r\\nAin't no more blanks left to fill  \\r\\nIn my list of sins  \\r\\nI'm at the end of my rope  \\r\\n  \\r\\nThe louder you speak  \\r\\nThe less I hear  \\r\\nI gotta let off some steam  \\r\\nand driven by fear  \\r\\n  \\r\\nTell me I'm wrong  \\r\\n'cause this can't go on  \\r\\nI'd rather stand on my own  \\r\\nAin't no more blanks left to fill  \\r\\nIn my list of sins  \\r\\nI'm at the end of my rope  \\r\\n  \\r\\nLeave me alone  \\r\\nThis can't go on  \\r\\nNot anymore, no  \\r\\n  \\r\\nYou waited too long  \\r\\nListen and soon you'll be gone  \\r\\nTell me I'm wrong  \\r\\n'Cause this can't go on\\r\\n\\r\\n\""
      ]
     },
     "execution_count": 29,
     "metadata": {},
     "output_type": "execute_result"
    }
   ],
   "source": [
    "df.text[0]"
   ]
  },
  {
   "cell_type": "markdown",
   "id": "8d65af3f-db19-44c9-9fc8-0b94aecd5b6d",
   "metadata": {},
   "source": [
    "Text Preprocessing"
   ]
  },
  {
   "cell_type": "code",
   "execution_count": 30,
   "id": "e1a03956-426a-416d-84a2-6321c4c59368",
   "metadata": {},
   "outputs": [],
   "source": [
    "# df['text'].str.lower() - converts lowercase string\n",
    "# replace [] : \n",
    "# df['text'].str.lower().replace(r'^\\w\\s' , ' ').replace(r'\\n', ' ', regex= True )"
   ]
  },
  {
   "cell_type": "code",
   "execution_count": 31,
   "id": "9cee5ff4-6af1-4ecc-bb7d-60aec8f6ed59",
   "metadata": {},
   "outputs": [
    {
     "data": {
      "text/plain": [
       "0       dont make a move dont make a sound ive got my ...\n",
       "1       well the record companys goin out of business ...\n",
       "2       oh i took a wrong turn it was the right turn m...\n",
       "3       now we chase the end of time afraid what we wi...\n",
       "4       when im on the road playin in a town without a...\n",
       "                              ...                        \n",
       "4995    pogues lorelei you told me tales of love and g...\n",
       "4996    things have been goin wrong long enough to kno...\n",
       "4997    its very clear our love is here to stay not fo...\n",
       "4998    i tied my bandanatook my pack from the floor y...\n",
       "4999    sleepless nights dont bother me at all if dawn...\n",
       "Name: text, Length: 5000, dtype: object"
      ]
     },
     "execution_count": 31,
     "metadata": {},
     "output_type": "execute_result"
    }
   ],
   "source": [
    "df['text'] = (\n",
    "    df['text']\n",
    "      .str.lower()\n",
    "      .str.replace(r'\\n', ' ', regex=True)              # newlines → space\n",
    "      .str.replace(r'[^\\w\\s]', '', regex=True)          # remove punctuation/non-word\n",
    "      .str.replace(r'\\s+', ' ', regex=True)             # collapse multiple spaces\n",
    "      .str.strip()                                      # trim leading/trailing spaces\n",
    ")\n",
    "df.text"
   ]
  },
  {
   "cell_type": "markdown",
   "id": "6cbbca9d-8011-45f0-b7ae-77a48ea03a8a",
   "metadata": {},
   "source": [
    "TEXT VECTORIZATION"
   ]
  },
  {
   "cell_type": "code",
   "execution_count": 32,
   "id": "71261983-c517-40aa-b45b-ea49bebc8168",
   "metadata": {},
   "outputs": [],
   "source": [
    "import nltk\n",
    "from nltk.stem.porter import PorterStemmer"
   ]
  },
  {
   "cell_type": "code",
   "execution_count": 33,
   "id": "7194437a-2830-427a-92b4-d663543871d8",
   "metadata": {},
   "outputs": [],
   "source": [
    "# Object\n",
    "stemmer = PorterStemmer()"
   ]
  },
  {
   "cell_type": "code",
   "execution_count": 34,
   "id": "64d27751-1198-4ed6-9753-874e18ab28d4",
   "metadata": {},
   "outputs": [],
   "source": [
    "def token(txt):\n",
    "    token = nltk.word_tokenize(txt)     #splits each word into token from text\n",
    "    a= [stemmer.stem(w) for w in token]  #applies stem function to each token (running- run)\n",
    "    return \" \".join(a)                   #returns stemmed token and pass it in string again"
   ]
  },
  {
   "cell_type": "code",
   "execution_count": 35,
   "id": "e654b7b8-7107-4128-8453-328107b1d08f",
   "metadata": {},
   "outputs": [
    {
     "data": {
      "text/plain": [
       "'you are run'"
      ]
     },
     "execution_count": 35,
     "metadata": {},
     "output_type": "execute_result"
    }
   ],
   "source": [
    "token(\"You are Running\")"
   ]
  },
  {
   "cell_type": "code",
   "execution_count": 36,
   "id": "0dfd46cf",
   "metadata": {},
   "outputs": [
    {
     "data": {
      "text/plain": [
       "0       dont make a move dont make a sound ive got my ...\n",
       "1       well the record compani goin out of busi they ...\n",
       "2       oh i took a wrong turn it wa the right turn my...\n",
       "3       now we chase the end of time afraid what we wi...\n",
       "4       when im on the road playin in a town without a...\n",
       "                              ...                        \n",
       "4995    pogu lorelei you told me tale of love and glor...\n",
       "4996    thing have been goin wrong long enough to know...\n",
       "4997    it veri clear our love is here to stay not for...\n",
       "4998    i tie my bandanatook my pack from the floor yo...\n",
       "4999    sleepless night dont bother me at all if dawn ...\n",
       "Name: text, Length: 5000, dtype: object"
      ]
     },
     "execution_count": 36,
     "metadata": {},
     "output_type": "execute_result"
    }
   ],
   "source": [
    "# Applys tokenization on every text\n",
    "df['text'].apply(lambda x: token(x))"
   ]
  },
  {
   "cell_type": "code",
   "execution_count": 37,
   "id": "457c14e7-70bb-4cb7-8223-441e4d47b714",
   "metadata": {},
   "outputs": [],
   "source": [
    "from sklearn.feature_extraction.text import TfidfVectorizer\n",
    "from sklearn.metrics.pairwise import cosine_similarity"
   ]
  },
  {
   "cell_type": "code",
   "execution_count": 38,
   "id": "e2649945-0b5a-45ec-b00d-5e239467b9d9",
   "metadata": {},
   "outputs": [],
   "source": [
    "tfid = TfidfVectorizer(analyzer ='word',stop_words='english')\n",
    "# TfidfVectorizer: builds a matrix of TF-IDF features from text documents.\n",
    "# TF-IDF = term frequency × inverse document frequency,  distinctive words get higher weight.\n",
    "# analyzer='word': tokenizes on word-level (the default); each feature is a word (or n-gram if you change ngram_range).\n",
    "# stop_words='english': removes common English stopwords like “the”, “and”, etc., before computing weights."
   ]
  },
  {
   "cell_type": "code",
   "execution_count": 39,
   "id": "f4fb2fe9-cd01-4af0-b521-7fd32772bb35",
   "metadata": {},
   "outputs": [],
   "source": [
    "matrix=tfid.fit_transform(df['text'])\n",
    "\n",
    "\n",
    "# fit: learns the vocabulary and IDF (inverse document frequency) weights from all strings in df['text'].\n",
    "\n",
    "# transform: converts each document (each entry in df['text']) into a TF-IDF vector based on that learned vocabulary.\n",
    "\n",
    "# The result, matrix, is a sparse matrix  (mostly entities are zero)"
   ]
  },
  {
   "cell_type": "code",
   "execution_count": 40,
   "id": "797457c9",
   "metadata": {},
   "outputs": [],
   "source": [
    "similar=cosine_similarity(matrix)\n",
    "# it computes the pairwise cosine similarity between every pair of documents."
   ]
  },
  {
   "cell_type": "code",
   "execution_count": 41,
   "id": "d414c9a3",
   "metadata": {},
   "outputs": [
    {
     "data": {
      "text/plain": [
       "array([1.        , 0.02185349, 0.04141176, ..., 0.02719419, 0.00835448,\n",
       "       0.03106356])"
      ]
     },
     "execution_count": 41,
     "metadata": {},
     "output_type": "execute_result"
    }
   ],
   "source": [
    "similar[0]"
   ]
  },
  {
   "cell_type": "code",
   "execution_count": 42,
   "id": "6fd76a47",
   "metadata": {},
   "outputs": [
    {
     "data": {
      "text/plain": [
       "4771"
      ]
     },
     "execution_count": 42,
     "metadata": {},
     "output_type": "execute_result"
    }
   ],
   "source": [
    "df[df[\"song\"]==\"Pumping Blood\"].index[0]\n"
   ]
  },
  {
   "cell_type": "markdown",
   "id": "2c2f450a",
   "metadata": {},
   "source": [
    "**Recommender Function**"
   ]
  },
  {
   "cell_type": "code",
   "execution_count": 43,
   "id": "9b036131",
   "metadata": {},
   "outputs": [],
   "source": [
    "def recommender(song_name):\n",
    "    idx= df[df[\"song\"]==song_name].index[0]\n",
    "    distance = sorted(list(enumerate(similar[idx])), reverse=True , key= lambda x:x[1])\n",
    "    song= [ ]\n",
    "    for s_id in distance[1:21]:\n",
    "        song.append(df.iloc[s_id[0]].song)\n",
    "    return song"
   ]
  },
  {
   "cell_type": "code",
   "execution_count": 44,
   "id": "40d19a16",
   "metadata": {},
   "outputs": [
    {
     "data": {
      "text/plain": [
       "['Blood',\n",
       " \"Oh My Son (I'm Sorry)\",\n",
       " 'Pumping',\n",
       " 'Do It Again',\n",
       " 'Ruination Of The Lost',\n",
       " 'Little Jack Frost, Get Lost',\n",
       " 'System',\n",
       " 'From A Jack To A King',\n",
       " 'Back In Your Face',\n",
       " 'Coo-Coo',\n",
       " 'My Blood',\n",
       " 'Ordinary Day',\n",
       " 'Freedom Song',\n",
       " 'The Six Strings That Drew Blood',\n",
       " 'Insect Pins',\n",
       " 'Oceans',\n",
       " 'Mr. Freeze',\n",
       " '1Stp Klosr',\n",
       " 'Vicarious',\n",
       " 'The Longest Day']"
      ]
     },
     "execution_count": 44,
     "metadata": {},
     "output_type": "execute_result"
    }
   ],
   "source": [
    "recommender(\"Pumping Blood\")"
   ]
  },
  {
   "cell_type": "code",
   "execution_count": 45,
   "id": "db242271",
   "metadata": {},
   "outputs": [],
   "source": [
    "import pickle"
   ]
  },
  {
   "cell_type": "code",
   "execution_count": 46,
   "id": "52655594",
   "metadata": {},
   "outputs": [],
   "source": [
    "pickle.dump(similar , open(\"similarity\", \"wb\"))"
   ]
  },
  {
   "cell_type": "code",
   "execution_count": 47,
   "id": "ab5feb79",
   "metadata": {},
   "outputs": [],
   "source": [
    "pickle.dump(df, open(\"df\", \"wb\"))"
   ]
  },
  {
   "cell_type": "code",
   "execution_count": null,
   "id": "f85a7e29",
   "metadata": {},
   "outputs": [],
   "source": []
  }
 ],
 "metadata": {
  "kernelspec": {
   "display_name": "Python 3",
   "language": "python",
   "name": "python3"
  },
  "language_info": {
   "codemirror_mode": {
    "name": "ipython",
    "version": 3
   },
   "file_extension": ".py",
   "mimetype": "text/x-python",
   "name": "python",
   "nbconvert_exporter": "python",
   "pygments_lexer": "ipython3",
   "version": "3.11.5"
  }
 },
 "nbformat": 4,
 "nbformat_minor": 5
}
